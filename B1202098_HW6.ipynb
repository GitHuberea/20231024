{
  "nbformat": 4,
  "nbformat_minor": 0,
  "metadata": {
    "colab": {
      "provenance": []
    },
    "kernelspec": {
      "name": "python3",
      "display_name": "Python 3"
    },
    "language_info": {
      "name": "python"
    }
  },
  "cells": [
    {
      "cell_type": "code",
      "source": [
        "def tree(height):\n",
        "  for i in range(1,height+1):\n",
        "    print(\" \"*int(height-i)+\"*\"*(i*2-1),end=\"\")\n",
        "    print(\"\")\n",
        "  for j in range(5):\n",
        "    print(\" \"*(height-2)+\"***\",end=\"\")\n",
        "    print(\"\")\n",
        "\n",
        "h=int(input(\"請輸入聖誕樹高度：\"))\n",
        "tree(h)"
      ],
      "metadata": {
        "colab": {
          "base_uri": "https://localhost:8080/"
        },
        "id": "E_oAfPpcdMqK",
        "outputId": "ee822e5e-7ead-412a-d100-1f002d781add"
      },
      "execution_count": 1,
      "outputs": [
        {
          "output_type": "stream",
          "name": "stdout",
          "text": [
            "請輸入聖誕樹高度：10\n",
            "         *\n",
            "        ***\n",
            "       *****\n",
            "      *******\n",
            "     *********\n",
            "    ***********\n",
            "   *************\n",
            "  ***************\n",
            " *****************\n",
            "*******************\n",
            "        ***\n",
            "        ***\n",
            "        ***\n",
            "        ***\n",
            "        ***\n"
          ]
        }
      ]
    },
    {
      "cell_type": "code",
      "source": [
        "def output(h,w):\n",
        "  bmi=w/(h/100)**2\n",
        "  if bmi<18.5:\n",
        "    return bmi,\"過輕\"\n",
        "  elif bmi>=18.5 and bmi<24:\n",
        "    return bmi,\"適中\"\n",
        "  elif bmi>=24 and bmi<27:\n",
        "    return bmi,\"過重\"\n",
        "  else:\n",
        "    return bmi,\"肥胖\"\n",
        "try:\n",
        "  height=float(input(\"請輸入您的身高（公分）：\"))\n",
        "  weight=float(input(\"請輸入您的體重（公斤）：\"))\n",
        "  a,b=output(height,weight)\n",
        "  print(\"BMI:\",round(a,1),\"\\n體位:\",b)\n",
        "except:\n",
        "  print(\"輸入內容錯誤。\")"
      ],
      "metadata": {
        "id": "nkoZX5l_szW7",
        "colab": {
          "base_uri": "https://localhost:8080/"
        },
        "outputId": "3c9f827d-b4aa-43e9-f7eb-97937fd84e4d"
      },
      "execution_count": null,
      "outputs": [
        {
          "output_type": "stream",
          "name": "stdout",
          "text": [
            "請輸入您的身高（公分）：180\n",
            "請輸入您的體重（公斤）：73\n",
            "BMI: 22.5 \n",
            "體位: 適中\n"
          ]
        }
      ]
    }
  ]
}